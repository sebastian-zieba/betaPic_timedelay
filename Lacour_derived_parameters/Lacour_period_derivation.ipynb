{
 "cells": [
  {
   "cell_type": "code",
   "execution_count": 266,
   "metadata": {},
   "outputs": [],
   "source": [
    "import numpy as np\n",
    "from astropy import constants as const\n",
    "from astropy.constants import iau2015 as const_iau\n",
    "from astropy import units as u\n",
    "import matplotlib.pyplot as plt"
   ]
  },
  {
   "cell_type": "code",
   "execution_count": 305,
   "metadata": {},
   "outputs": [],
   "source": [
    "# Values from Lacour+2022\n",
    "ab = 9.93 * u.au\n",
    "ac = 2.68 * u.au\n",
    "\n",
    "ab_err_lower = 0.03 * u.au\n",
    "ab_err_upper = 0.03 * u.au\n",
    "ac_err_lower = 0.02 * u.au\n",
    "ac_err_upper = 0.02 * u.au\n",
    "\n",
    "Ms = 1.75 * u.M_sun\n",
    "\n",
    "Ms_err_lower = 0.02 * u.M_sun\n",
    "Ms_err_upper = 0.03 * u.M_sun\n",
    "\n",
    "Mb = 11.90 * u.M_jup\n",
    "Mc = 8.89 * u.M_jup\n",
    "\n",
    "Mb_err_lower = 3.04 * u.M_jup\n",
    "Mb_err_upper = 2.93 * u.M_jup\n",
    "Mc_err_lower = 0.75 * u.M_jup\n",
    "Mc_err_upper = 0.75 * u.M_jup"
   ]
  },
  {
   "cell_type": "code",
   "execution_count": 306,
   "metadata": {},
   "outputs": [
    {
     "data": {
      "text/latex": [
       "$1.2668653 \\times 10^{17} \\; \\mathrm{\\frac{m^{3}}{s^{2}}}$"
      ],
      "text/plain": [
       "<<class 'astropy.constants.iau2015.IAU2015'> name='Nominal Jupiter mass parameter' value=1.2668653e+17 uncertainty=0.0 unit='m3 / s2' reference='IAU 2015 Resolution B 3'>"
      ]
     },
     "execution_count": 306,
     "metadata": {},
     "output_type": "execute_result"
    }
   ],
   "source": [
    "const_iau.GM_jup"
   ]
  },
  {
   "cell_type": "code",
   "execution_count": 307,
   "metadata": {},
   "outputs": [
    {
     "data": {
      "text/latex": [
       "$1.3271244 \\times 10^{20} \\; \\mathrm{\\frac{m^{3}}{s^{2}}}$"
      ],
      "text/plain": [
       "<<class 'astropy.constants.iau2015.IAU2015'> name='Nominal solar mass parameter' value=1.3271244e+20 uncertainty=0.0 unit='m3 / s2' reference='IAU 2015 Resolution B 3'>"
      ]
     },
     "execution_count": 307,
     "metadata": {},
     "output_type": "execute_result"
    }
   ],
   "source": [
    "const_iau.GM_sun"
   ]
  },
  {
   "cell_type": "code",
   "execution_count": 338,
   "metadata": {},
   "outputs": [],
   "source": [
    "# function calculating period using Kepler III\n",
    "def Tfct(a, Ms, Mi, uses_astropyunits = True):\n",
    "    if uses_astropyunits:\n",
    "        res = np.sqrt((4 * np.pi**2 * a**3)/(const.G * (Ms + Mi)))\n",
    "    else: \n",
    "        res = np.sqrt((4 * np.pi**2 * (a*u.au)**3)/(const.G * ((Ms * u.M_sun) + (Mi * u.M_jup))))\n",
    "    return res\n",
    "\n",
    "# function calculating period using Kepler III and IAU's values for G*M\n",
    "def Tfct_iau(a, Ms, Mi):\n",
    "    res = np.sqrt((4 * np.pi**2 * (a*u.au)**3)/((Ms * const_iau.GM_sun) + (Mi * const_iau.GM_jup)))\n",
    "    return res"
   ]
  },
  {
   "cell_type": "code",
   "execution_count": 339,
   "metadata": {},
   "outputs": [
    {
     "data": {
      "text/plain": [
       "149597870700.0"
      ]
     },
     "execution_count": 339,
     "metadata": {},
     "output_type": "execute_result"
    }
   ],
   "source": [
    "u.au.to('meter')"
   ]
  },
  {
   "cell_type": "code",
   "execution_count": 350,
   "metadata": {},
   "outputs": [],
   "source": [
    "#period of b"
   ]
  },
  {
   "cell_type": "code",
   "execution_count": 352,
   "metadata": {},
   "outputs": [
    {
     "data": {
      "text/latex": [
       "$18133300 \\; \\mathrm{\\frac{AU^{3/2}\\,s\\,kg^{1/2}}{M_{\\odot}^{1/2}\\,m^{3/2}}}$"
      ],
      "text/plain": [
       "<Quantity 18133300.35228948 AU(3/2) kg(1/2) s / (m(3/2) solMass(1/2))>"
      ]
     },
     "execution_count": 352,
     "metadata": {},
     "output_type": "execute_result"
    }
   ],
   "source": [
    "Tfct(ab, Ms, Mb)"
   ]
  },
  {
   "cell_type": "code",
   "execution_count": 353,
   "metadata": {},
   "outputs": [
    {
     "name": "stdout",
     "output_type": "stream",
     "text": [
      "23.578059041904034 yr\n"
     ]
    }
   ],
   "source": [
    "print(Tfct(ab, Ms, Mb).to('year'))"
   ]
  },
  {
   "cell_type": "code",
   "execution_count": 354,
   "metadata": {},
   "outputs": [],
   "source": [
    "#period of c"
   ]
  },
  {
   "cell_type": "code",
   "execution_count": 355,
   "metadata": {},
   "outputs": [
    {
     "data": {
      "text/latex": [
       "$2544542.4 \\; \\mathrm{\\frac{AU^{3/2}\\,s\\,kg^{1/2}}{M_{\\odot}^{1/2}\\,m^{3/2}}}$"
      ],
      "text/plain": [
       "<Quantity 2544542.43364485 AU(3/2) kg(1/2) s / (m(3/2) solMass(1/2))>"
      ]
     },
     "execution_count": 355,
     "metadata": {},
     "output_type": "execute_result"
    }
   ],
   "source": [
    "Tfct(ac, Ms, Mc)"
   ]
  },
  {
   "cell_type": "code",
   "execution_count": 356,
   "metadata": {},
   "outputs": [
    {
     "name": "stdout",
     "output_type": "stream",
     "text": [
      "3.308574311875535 yr\n"
     ]
    }
   ],
   "source": [
    "print(Tfct(ac, Ms, Mc).to('year'))"
   ]
  },
  {
   "cell_type": "code",
   "execution_count": 357,
   "metadata": {},
   "outputs": [
    {
     "name": "stdout",
     "output_type": "stream",
     "text": [
      "1208.4567674125392 d\n"
     ]
    }
   ],
   "source": [
    "print(Tfct(ac, Ms, Mc).to('day'))"
   ]
  },
  {
   "cell_type": "code",
   "execution_count": 362,
   "metadata": {},
   "outputs": [],
   "source": [
    "#hmm that value is kinda off from the reported 1221 days"
   ]
  },
  {
   "cell_type": "code",
   "execution_count": null,
   "metadata": {},
   "outputs": [],
   "source": []
  },
  {
   "cell_type": "code",
   "execution_count": null,
   "metadata": {},
   "outputs": [],
   "source": []
  },
  {
   "cell_type": "code",
   "execution_count": 281,
   "metadata": {},
   "outputs": [],
   "source": [
    "#Errorbar estimate.."
   ]
  },
  {
   "cell_type": "code",
   "execution_count": 228,
   "metadata": {},
   "outputs": [],
   "source": [
    "# hacky function which creates an asymetric gaussian (should be good enough for this application)\n",
    "def asym_norm(mu, s_lower, s_upper):\n",
    "    current_res = np.nan\n",
    "    counter = 0\n",
    "    while np.isnan(current_res):\n",
    "        #print(counter)\n",
    "        rand = np.random.randn(1)[0] #draw random number from normal distr. \n",
    "        if rand < 0:\n",
    "            randu = np.random.uniform(0,1,1)\n",
    "            normfac = s_lower/s_upper #correct for jump \n",
    "            if randu < normfac.value:\n",
    "                current_res = mu + rand * s_lower\n",
    "                current_res = current_res\n",
    "            else: current_res = np.nan\n",
    "        elif rand > 0:\n",
    "            current_res = mu + rand * s_upper\n",
    "            current_res = current_res\n",
    "        res = current_res\n",
    "        counter += 1\n",
    "    return res"
   ]
  },
  {
   "cell_type": "code",
   "execution_count": null,
   "metadata": {},
   "outputs": [],
   "source": [
    "asym_norm(Ms, Ms_err_lower, Ms_err_upper)"
   ]
  },
  {
   "cell_type": "code",
   "execution_count": 242,
   "metadata": {},
   "outputs": [],
   "source": [
    "# create a Ms distribution"
   ]
  },
  {
   "cell_type": "code",
   "execution_count": 239,
   "metadata": {},
   "outputs": [],
   "source": [
    "Ms_sample = np.array([asym_norm(Ms, Ms_err_lower, Ms_err_upper).value\n",
    "          for i in range(500000)])"
   ]
  },
  {
   "cell_type": "code",
   "execution_count": 240,
   "metadata": {},
   "outputs": [
    {
     "data": {
      "text/plain": [
       "<matplotlib.lines.Line2D at 0x7fc3b3988910>"
      ]
     },
     "execution_count": 240,
     "metadata": {},
     "output_type": "execute_result"
    },
    {
     "data": {
      "image/png": "[encoded data removed]",
      "text/plain": [
       "<Figure size 432x288 with 1 Axes>"
      ]
     },
     "metadata": {
      "needs_background": "light"
     },
     "output_type": "display_data"
    }
   ],
   "source": [
    "n, bins, patches = plt.hist(Ms_sample, 500, density=False, facecolor='g', alpha=0.75)\n",
    "plt.axvline(Ms.value)"
   ]
  },
  {
   "cell_type": "code",
   "execution_count": 243,
   "metadata": {},
   "outputs": [],
   "source": [
    "Mc_sample = np.array([asym_norm(Mc, Mc_err_lower, Mc_err_upper).value\n",
    "          for i in range(500000)])\n",
    "#Mc_sample_new = np.array(Mc_sample)[~np.isnan(Mc_sample)]"
   ]
  },
  {
   "cell_type": "code",
   "execution_count": 245,
   "metadata": {},
   "outputs": [
    {
     "data": {
      "text/plain": [
       "<matplotlib.lines.Line2D at 0x7fc3bf986190>"
      ]
     },
     "execution_count": 245,
     "metadata": {},
     "output_type": "execute_result"
    },
    {
     "data": {
      "image/png": "[encoded data removed]",
      "text/plain": [
       "<Figure size 432x288 with 1 Axes>"
      ]
     },
     "metadata": {
      "needs_background": "light"
     },
     "output_type": "display_data"
    }
   ],
   "source": [
    "n, bins, patches = plt.hist(Mc_sample, 500, density=False, facecolor='g', alpha=0.75)\n",
    "plt.axvline(Mc.value)"
   ]
  },
  {
   "cell_type": "code",
   "execution_count": 246,
   "metadata": {},
   "outputs": [],
   "source": [
    "ac_sample = np.array([asym_norm(ac, ac_err_lower, ac_err_upper).value\n",
    "          for i in range(500000)])\n",
    "#ac_sample_new = np.array(ac_sample)[~np.isnan(ac_sample)]"
   ]
  },
  {
   "cell_type": "code",
   "execution_count": 247,
   "metadata": {},
   "outputs": [
    {
     "data": {
      "text/plain": [
       "<matplotlib.lines.Line2D at 0x7fc3bf56d690>"
      ]
     },
     "execution_count": 247,
     "metadata": {},
     "output_type": "execute_result"
    },
    {
     "data": {
      "image/png": "[encoded data removed]",
      "text/plain": [
       "<Figure size 432x288 with 1 Axes>"
      ]
     },
     "metadata": {
      "needs_background": "light"
     },
     "output_type": "display_data"
    }
   ],
   "source": [
    "n, bins, patches = plt.hist(ac_sample, 500, density=False, facecolor='g', alpha=0.75)\n",
    "plt.axvline(ac.value)"
   ]
  },
  {
   "cell_type": "code",
   "execution_count": 252,
   "metadata": {},
   "outputs": [],
   "source": [
    "tmp = Tfct(ac_sample, Ms_sample, Mc_sample, uses_astropyunits = False).to('day').value"
   ]
  },
  {
   "cell_type": "code",
   "execution_count": 253,
   "metadata": {},
   "outputs": [
    {
     "data": {
      "text/plain": [
       "1205.8536937525223"
      ]
     },
     "execution_count": 253,
     "metadata": {},
     "output_type": "execute_result"
    }
   ],
   "source": [
    "np.percentile(tmp, 50)"
   ]
  },
  {
   "cell_type": "code",
   "execution_count": 255,
   "metadata": {},
   "outputs": [
    {
     "data": {
      "text/plain": [
       "1188.5117589797574"
      ]
     },
     "execution_count": 255,
     "metadata": {},
     "output_type": "execute_result"
    }
   ],
   "source": [
    "np.percentile(tmp, 14)"
   ]
  },
  {
   "cell_type": "code",
   "execution_count": 256,
   "metadata": {},
   "outputs": [
    {
     "data": {
      "text/plain": [
       "1222.4281530396736"
      ]
     },
     "execution_count": 256,
     "metadata": {},
     "output_type": "execute_result"
    }
   ],
   "source": [
    "np.percentile(tmp, 85)"
   ]
  },
  {
   "cell_type": "code",
   "execution_count": null,
   "metadata": {},
   "outputs": [],
   "source": [
    "# I am therefore getting 1206 + 17 - 17"
   ]
  },
  {
   "cell_type": "code",
   "execution_count": 360,
   "metadata": {},
   "outputs": [
    {
     "data": {
      "text/plain": [
       "-0.7057297462259694"
      ]
     },
     "execution_count": 360,
     "metadata": {},
     "output_type": "execute_result"
    }
   ],
   "source": [
    "(1205 - 1221)/np.sqrt(15**2+17**2)"
   ]
  },
  {
   "cell_type": "code",
   "execution_count": 361,
   "metadata": {},
   "outputs": [],
   "source": [
    "#it's consistent within 1 sigma with the lacour value but still surprisingly off to me"
   ]
  },
  {
   "cell_type": "code",
   "execution_count": 149,
   "metadata": {},
   "outputs": [],
   "source": [
    "tmp = Tfct_no_u(ac_sample, Ms_sample, Mc_sample).to('day').value"
   ]
  },
  {
   "cell_type": "code",
   "execution_count": 150,
   "metadata": {},
   "outputs": [],
   "source": [
    "tmp2 = np.array(tmp)[~np.isnan(tmp)]"
   ]
  },
  {
   "cell_type": "code",
   "execution_count": 151,
   "metadata": {},
   "outputs": [
    {
     "data": {
      "text/plain": [
       "1205.8841655274882"
      ]
     },
     "execution_count": 151,
     "metadata": {},
     "output_type": "execute_result"
    }
   ],
   "source": [
    "np.percentile(tmp2, 50)"
   ]
  },
  {
   "cell_type": "code",
   "execution_count": 154,
   "metadata": {},
   "outputs": [
    {
     "data": {
      "text/plain": [
       "1208.4567674125392"
      ]
     },
     "execution_count": 154,
     "metadata": {},
     "output_type": "execute_result"
    }
   ],
   "source": [
    "Tfct(ac, Ms, Mc).to('day').value"
   ]
  },
  {
   "cell_type": "code",
   "execution_count": null,
   "metadata": {},
   "outputs": [],
   "source": []
  }
 ],
 "metadata": {
  "kernelspec": {
   "display_name": "Python 3",
   "language": "python",
   "name": "python3"
  },
  "language_info": {
   "codemirror_mode": {
    "name": "ipython",
    "version": 3
   },
   "file_extension": ".py",
   "mimetype": "text/x-python",
   "name": "python",
   "nbconvert_exporter": "python",
   "pygments_lexer": "ipython3",
   "version": "3.7.6"
  }
 },
 "nbformat": 4,
 "nbformat_minor": 4
}
