{
 "cells": [
  {
   "cell_type": "code",
   "execution_count": 1,
   "metadata": {},
   "outputs": [],
   "source": [
    "import numpy as np\n",
    "import matplotlib.pyplot as plt\n",
    "\n",
    "import lightkurve as lk"
   ]
  },
  {
   "cell_type": "code",
   "execution_count": 40,
   "metadata": {},
   "outputs": [],
   "source": [
    "name ='TIC 260353074'\n",
    "sr = lk.search_lightcurve(name, author='SPOC')"
   ]
  },
  {
   "cell_type": "code",
   "execution_count": 41,
   "metadata": {},
   "outputs": [
    {
     "data": {
      "text/html": [
       "SearchResult containing 21 data products.\n",
       "\n",
       "<table id=\"table140648591427152\">\n",
       "<thead><tr><th>#</th><th>mission</th><th>year</th><th>author</th><th>exptime</th><th>target_name</th><th>distance</th></tr></thead>\n",
       "<thead><tr><th></th><th></th><th></th><th></th><th>s</th><th></th><th>arcsec</th></tr></thead>\n",
       "<tr><td>0</td><td>TESS Sector 02</td><td>2018</td><td><a href='https://heasarc.gsfc.nasa.gov/docs/tess/pipeline.html'>SPOC</a></td><td>120</td><td>260353074</td><td>0.0</td></tr>\n",
       "<tr><td>1</td><td>TESS Sector 03</td><td>2018</td><td><a href='https://heasarc.gsfc.nasa.gov/docs/tess/pipeline.html'>SPOC</a></td><td>120</td><td>260353074</td><td>0.0</td></tr>\n",
       "<tr><td>2</td><td>TESS Sector 04</td><td>2018</td><td><a href='https://heasarc.gsfc.nasa.gov/docs/tess/pipeline.html'>SPOC</a></td><td>120</td><td>260353074</td><td>0.0</td></tr>\n",
       "<tr><td>3</td><td>TESS Sector 05</td><td>2018</td><td><a href='https://heasarc.gsfc.nasa.gov/docs/tess/pipeline.html'>SPOC</a></td><td>120</td><td>260353074</td><td>0.0</td></tr>\n",
       "<tr><td>4</td><td>TESS Sector 06</td><td>2018</td><td><a href='https://heasarc.gsfc.nasa.gov/docs/tess/pipeline.html'>SPOC</a></td><td>120</td><td>260353074</td><td>0.0</td></tr>\n",
       "<tr><td>5</td><td>TESS Sector 07</td><td>2019</td><td><a href='https://heasarc.gsfc.nasa.gov/docs/tess/pipeline.html'>SPOC</a></td><td>120</td><td>260353074</td><td>0.0</td></tr>\n",
       "<tr><td>6</td><td>TESS Sector 08</td><td>2019</td><td><a href='https://heasarc.gsfc.nasa.gov/docs/tess/pipeline.html'>SPOC</a></td><td>120</td><td>260353074</td><td>0.0</td></tr>\n",
       "<tr><td>7</td><td>TESS Sector 09</td><td>2019</td><td><a href='https://heasarc.gsfc.nasa.gov/docs/tess/pipeline.html'>SPOC</a></td><td>120</td><td>260353074</td><td>0.0</td></tr>\n",
       "<tr><td>8</td><td>TESS Sector 10</td><td>2019</td><td><a href='https://heasarc.gsfc.nasa.gov/docs/tess/pipeline.html'>SPOC</a></td><td>120</td><td>260353074</td><td>0.0</td></tr>\n",
       "<tr><td>9</td><td>TESS Sector 11</td><td>2019</td><td><a href='https://heasarc.gsfc.nasa.gov/docs/tess/pipeline.html'>SPOC</a></td><td>120</td><td>260353074</td><td>0.0</td></tr>\n",
       "<tr><td>10</td><td>TESS Sector 12</td><td>2019</td><td><a href='https://heasarc.gsfc.nasa.gov/docs/tess/pipeline.html'>SPOC</a></td><td>120</td><td>260353074</td><td>0.0</td></tr>\n",
       "<tr><td>11</td><td>TESS Sector 13</td><td>2019</td><td><a href='https://heasarc.gsfc.nasa.gov/docs/tess/pipeline.html'>SPOC</a></td><td>120</td><td>260353074</td><td>0.0</td></tr>\n",
       "<tr><td>12</td><td>TESS Sector 27</td><td>2020</td><td><a href='https://heasarc.gsfc.nasa.gov/docs/tess/pipeline.html'>SPOC</a></td><td>120</td><td>260353074</td><td>0.0</td></tr>\n",
       "<tr><td>13</td><td>TESS Sector 28</td><td>2020</td><td><a href='https://heasarc.gsfc.nasa.gov/docs/tess/pipeline.html'>SPOC</a></td><td>120</td><td>260353074</td><td>0.0</td></tr>\n",
       "<tr><td>14</td><td>TESS Sector 29</td><td>2020</td><td><a href='https://heasarc.gsfc.nasa.gov/docs/tess/pipeline.html'>SPOC</a></td><td>120</td><td>260353074</td><td>0.0</td></tr>\n",
       "<tr><td>15</td><td>TESS Sector 31</td><td>2020</td><td><a href='https://heasarc.gsfc.nasa.gov/docs/tess/pipeline.html'>SPOC</a></td><td>120</td><td>260353074</td><td>0.0</td></tr>\n",
       "<tr><td>16</td><td>TESS Sector 34</td><td>2021</td><td><a href='https://heasarc.gsfc.nasa.gov/docs/tess/pipeline.html'>SPOC</a></td><td>120</td><td>260353074</td><td>0.0</td></tr>\n",
       "<tr><td>17</td><td>TESS Sector 35</td><td>2021</td><td><a href='https://heasarc.gsfc.nasa.gov/docs/tess/pipeline.html'>SPOC</a></td><td>120</td><td>260353074</td><td>0.0</td></tr>\n",
       "<tr><td>18</td><td>TESS Sector 36</td><td>2021</td><td><a href='https://heasarc.gsfc.nasa.gov/docs/tess/pipeline.html'>SPOC</a></td><td>120</td><td>260353074</td><td>0.0</td></tr>\n",
       "<tr><td>19</td><td>TESS Sector 37</td><td>2021</td><td><a href='https://heasarc.gsfc.nasa.gov/docs/tess/pipeline.html'>SPOC</a></td><td>120</td><td>260353074</td><td>0.0</td></tr>\n",
       "<tr><td>20</td><td>TESS Sector 38</td><td>2021</td><td><a href='https://heasarc.gsfc.nasa.gov/docs/tess/pipeline.html'>SPOC</a></td><td>120</td><td>260353074</td><td>0.0</td></tr>\n",
       "</table>"
      ],
      "text/plain": [
       "SearchResult containing 21 data products.\n",
       "\n",
       " #     mission     year author exptime target_name distance\n",
       "                                  s                 arcsec \n",
       "--- -------------- ---- ------ ------- ----------- --------\n",
       "  0 TESS Sector 02 2018   SPOC     120   260353074      0.0\n",
       "  1 TESS Sector 03 2018   SPOC     120   260353074      0.0\n",
       "  2 TESS Sector 04 2018   SPOC     120   260353074      0.0\n",
       "  3 TESS Sector 05 2018   SPOC     120   260353074      0.0\n",
       "  4 TESS Sector 06 2018   SPOC     120   260353074      0.0\n",
       "  5 TESS Sector 07 2019   SPOC     120   260353074      0.0\n",
       "  6 TESS Sector 08 2019   SPOC     120   260353074      0.0\n",
       "  7 TESS Sector 09 2019   SPOC     120   260353074      0.0\n",
       "  8 TESS Sector 10 2019   SPOC     120   260353074      0.0\n",
       "  9 TESS Sector 11 2019   SPOC     120   260353074      0.0\n",
       " 10 TESS Sector 12 2019   SPOC     120   260353074      0.0\n",
       " 11 TESS Sector 13 2019   SPOC     120   260353074      0.0\n",
       " 12 TESS Sector 27 2020   SPOC     120   260353074      0.0\n",
       " 13 TESS Sector 28 2020   SPOC     120   260353074      0.0\n",
       " 14 TESS Sector 29 2020   SPOC     120   260353074      0.0\n",
       " 15 TESS Sector 31 2020   SPOC     120   260353074      0.0\n",
       " 16 TESS Sector 34 2021   SPOC     120   260353074      0.0\n",
       " 17 TESS Sector 35 2021   SPOC     120   260353074      0.0\n",
       " 18 TESS Sector 36 2021   SPOC     120   260353074      0.0\n",
       " 19 TESS Sector 37 2021   SPOC     120   260353074      0.0\n",
       " 20 TESS Sector 38 2021   SPOC     120   260353074      0.0"
      ]
     },
     "execution_count": 41,
     "metadata": {},
     "output_type": "execute_result"
    }
   ],
   "source": [
    "sr"
   ]
  },
  {
   "cell_type": "code",
   "execution_count": 42,
   "metadata": {},
   "outputs": [
    {
     "name": "stderr",
     "output_type": "stream",
     "text": [
      "Warning: 30% (5871/19412) of the cadences will be ignored due to the quality mask (quality_bitmask=175).\n"
     ]
    }
   ],
   "source": [
    "lcfs = sr.download_all()"
   ]
  },
  {
   "cell_type": "code",
   "execution_count": 43,
   "metadata": {},
   "outputs": [],
   "source": [
    "# Use the normalized PDCSAP_FLUX\n",
    "lc = lcfs[0].normalize()\n",
    "# Loop through the rest of the LCFS, appending to the first light curve\n",
    "for lcf in lcfs[1:]:\n",
    "    lc = lc.append(lcf.normalize())"
   ]
  },
  {
   "cell_type": "code",
   "execution_count": 44,
   "metadata": {},
   "outputs": [],
   "source": [
    "q0 = lc.quality == 0\n",
    "lc = lc[q0].remove_nans()"
   ]
  },
  {
   "cell_type": "code",
   "execution_count": 45,
   "metadata": {},
   "outputs": [
    {
     "data": {
      "text/plain": [
       "<matplotlib.axes._subplots.AxesSubplot at 0x7feb4d645a90>"
      ]
     },
     "execution_count": 45,
     "metadata": {},
     "output_type": "execute_result"
    },
    {
     "data": {
      "image/png": "[encoded data removed]",
      "text/plain": [
       "<Figure size 848.5x400 with 1 Axes>"
      ]
     },
     "metadata": {},
     "output_type": "display_data"
    }
   ],
   "source": [
    "lc.scatter()"
   ]
  },
  {
   "cell_type": "code",
   "execution_count": 46,
   "metadata": {},
   "outputs": [],
   "source": [
    "times = lc.time\n",
    "flux = lc.flux - np.mean(lc1.flux) + 1\n",
    "mags = -2.5 * np.log10(flux)\n",
    "mags = mags - np.mean(mags)\n",
    "\n",
    "x_TIC = times\n",
    "y_TIC = mags"
   ]
  },
  {
   "cell_type": "code",
   "execution_count": 47,
   "metadata": {},
   "outputs": [],
   "source": [
    "sort_idx = np.argsort(x_TIC)"
   ]
  },
  {
   "cell_type": "code",
   "execution_count": 48,
   "metadata": {},
   "outputs": [],
   "source": [
    "n=25"
   ]
  },
  {
   "cell_type": "code",
   "execution_count": null,
   "metadata": {},
   "outputs": [],
   "source": [
    "segment_size = [0]+sorted(np.argsort(np.diff(x_TIC[sort_idx]))[::-1][:25])\n",
    "segment_borders = [0]+[i+1 for i in sorted(np.argsort(np.diff(x_TIC[sort_idx]))[::-1][:n])]+[len(x_TIC)]"
   ]
  },
  {
   "cell_type": "code",
   "execution_count": null,
   "metadata": {},
   "outputs": [],
   "source": [
    "iterr = 0\n",
    "#sort_idx = np.argsort(t_combRT)\n",
    "for i in range(0,n):\n",
    "    print(iterr)\n",
    "    plt.scatter(x_TIC[sort_idx][segment_borders[i]:segment_borders[i+1]], y_TIC[sort_idx][segment_borders[i]:segment_borders[i+1]], s=1)\n",
    "    iterr += 1"
   ]
  },
  {
   "cell_type": "code",
   "execution_count": null,
   "metadata": {},
   "outputs": [],
   "source": [
    "#AS\n",
    "#freq, amp = AS(t_TESS, highpass(m_TESS, 5, 50)[5], 15)\n",
    "freq, amp = AS(x_TIC, y_TIC, 15)\n",
    "fig, ax = plt.subplots(1, 1, figsize=(7, 4))\n",
    "ax.plot(freq, amp)\n",
    "freq=freq[1000:]\n",
    "amp=amp[1000:]\n",
    "ax.plot(freq, amp)\n",
    "max_power = amp.max()\n",
    "peaks, _ = find_peaks(amp, height=max_power*0.4, distance=200)\n",
    "ax.plot(freq[peaks], amp[peaks], \"x\")\n",
    "sort_idx = np.argsort(amp[peaks])[::-1]\n",
    "f_TESS = freq[peaks][sort_idx]\n",
    "a_TESS = amp[peaks][sort_idx]\n",
    "print(f_TESS)\n",
    "print(a_TESS)\n",
    "print(len(f_TESS))"
   ]
  },
  {
   "cell_type": "code",
   "execution_count": null,
   "metadata": {},
   "outputs": [],
   "source": [
    "f_TESS_list = [11.99158946, 14.63919138, 20.87840057, 13.00383616]\n",
    "a_TESS_list = [0.00246508, 0.00197533, 0.00191925, 0.00184786]\n",
    "\n",
    "f_TESS_list = [11.99158946, 14.63919138, 20.87840057, 13.00383616, 12.49446322, 14.01831695,\n",
    " 11.487294  ]\n",
    "a_TESS_list = [0.00246508, 0.00197533, 0.00191925, 0.00184786, 0.00144314, 0.00106235,\n",
    " 0.00103356]\n",
    "\n",
    "\n",
    "sort_idx = np.argsort(x_TIC)\n",
    "segment_borders = [0]+[i+1 for i in sorted(np.argsort(np.diff(x_TIC[sort_idx]))[::-1][:24])]+[len(x_TIC)]\n",
    "\n",
    "times = x_TIC\n",
    "magnitudes = y_TIC\n",
    "\n",
    "time_slice, mag_slice, phase, phase_err = [], [], [], []\n",
    "time_delays, time_delays_err, time_midpoints = [], [], []\n",
    "\n",
    "iteration = 0\n",
    "\n",
    "# Iterate over lightcurve\n",
    "for t, y, idx in zip(times, magnitudes, range(len(times))):\n",
    "    time_slice.append(t)\n",
    "    mag_slice.append(y)\n",
    "\n",
    "    # In each segment\n",
    "    if idx == segment_borders[iteration+1]-1:\n",
    "        print(iteration)\n",
    "        print(idx)\n",
    "        \n",
    "        fig1, ax1 = plt.subplots(1, 1, figsize=(6.5, 3.5*2.5/2))\n",
    "        ax1.scatter(time_slice, mag_slice)\n",
    "        ax1.axvline(min(time_slice))\n",
    "        ax1.axvline(max(time_slice))\n",
    "        \n",
    "        print('Calc AS')\n",
    "        #AS################\n",
    "        freq, amp = AS(time_slice, mag_slice, 5)\n",
    "\n",
    "        fig, ax = plt.subplots(1, 1, figsize=(7, 4))\n",
    "        ax.plot(freq, amp)\n",
    "\n",
    "        freq=freq[50:]\n",
    "        amp=amp[50:]\n",
    "        ax.plot(freq, amp)\n",
    "\n",
    "        max_power = amp.max()\n",
    "\n",
    "        peaks, _ = find_peaks(amp, height=max_power*0.5, distance=50)\n",
    "        ax.plot(freq[peaks], amp[peaks], \"x\")\n",
    "\n",
    "\n",
    "        sort_idx = np.argsort(amp[peaks])[::-1]\n",
    "        f_TESS = freq[peaks][sort_idx]\n",
    "        a_TESS = amp[peaks][sort_idx]\n",
    "\n",
    "        print(f_TESS)\n",
    "        print(a_TESS)\n",
    "        print(len(f_TESS))\n",
    "        #####################\n",
    "        \n",
    "        # Append the time midpoint\n",
    "        time_midpoints.append(np.mean(time_slice))\n",
    "\n",
    "        # And the phases for each frequency\n",
    "        \n",
    "        print('Calc LS fit')\n",
    "        sol = phases_simon(time_slice, mag_slice, f_TESS_list, a_TESS_list, [0.5]*len(f_TESS_list))\n",
    "        \n",
    "        print(sol)\n",
    "        \n",
    "        phase_i = sol[2]*2*np.pi\n",
    "        phase.append(dft_phase(time_slice, mag_slice, f_TESS_list))\n",
    "        #phase.append(phase_i)\n",
    "        phase_err_i = sol[3]*2*np.pi\n",
    "        phase_err.append(phase_err_i)\n",
    "        \n",
    "        time_slice, mag_slice = [], []\n",
    "        \n",
    "        iteration += 1 \n",
    "\n",
    "phase = np.array(phase).T\n",
    "print(phase)\n",
    "phase = np.unwrap(phase)\n",
    "phase -= np.mean(phase)\n",
    "print(phase)\n",
    "\n",
    "phase_err = np.array(phase_err).T\n",
    "\n",
    "print('Calc TD')\n",
    "# Phase wrapping patch\n",
    "for ph, ph_err, f in zip(phase, phase_err, f_TESS_list):\n",
    "    td = ph / (2*np.pi*f)\n",
    "    time_delays.append(td-np.mean(td))\n",
    "    time_delays_err.append(ph_err / (2*np.pi*f))\n",
    "\n",
    "print('Plot TD')\n",
    "fig, ax = plt.subplots(1, 1, figsize=(6.5, 3.5*2.5/2))\n",
    "for i in range(len(f_TESS_list)):\n",
    "    #ax[0].scatter(time_midpoints, time_delays[i]*86400, s=5)\n",
    "    ax.errorbar(time_midpoints, (time_delays[i]-time_delays[i][-1])*86400, yerr = time_delays_err[i]*86400, fmt='.')    \n",
    "    #ax[0].set_ylim(-800, 800)\n",
    "    #ax[1].set_ylim(-800, 800)\n",
    "    \n",
    "#plt.tight_layout()\n",
    "#fig.savefig('f_TESS1.png', tight_layout=True)\n",
    "\n",
    "\n",
    "t_td_AT = time_midpoints\n",
    "tau_td_AT = []\n",
    "for j in range(len(f_TESS_list)):\n",
    "    tau_td_AT.append(np.array([i*86400 for i in time_delays][j]-[i*86400 for i in time_delays][j][-1]))\n",
    "tau_err_td_AT = time_delays_err"
   ]
  }
 ],
 "metadata": {
  "kernelspec": {
   "display_name": "Python 3",
   "language": "python",
   "name": "python3"
  },
  "language_info": {
   "codemirror_mode": {
    "name": "ipython",
    "version": 3
   },
   "file_extension": ".py",
   "mimetype": "text/x-python",
   "name": "python",
   "nbconvert_exporter": "python",
   "pygments_lexer": "ipython3",
   "version": "3.7.6"
  }
 },
 "nbformat": 4,
 "nbformat_minor": 4
}
